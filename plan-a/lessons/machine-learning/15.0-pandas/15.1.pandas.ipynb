{
 "cells": [
  {
   "cell_type": "markdown",
   "id": "5617d211",
   "metadata": {},
   "source": [
    "# 15.0 Pandas"
   ]
  },
  {
   "cell_type": "code",
   "execution_count": 44,
   "id": "2df5fbe4",
   "metadata": {},
   "outputs": [],
   "source": [
    "import pandas as pd\n",
    "import numpy as np\n",
    "from sklearn.preprocessing import MinMaxScaler"
   ]
  },
  {
   "cell_type": "code",
   "execution_count": 45,
   "id": "26407c5f",
   "metadata": {},
   "outputs": [
    {
     "data": {
      "text/html": [
       "<div>\n",
       "<style scoped>\n",
       "    .dataframe tbody tr th:only-of-type {\n",
       "        vertical-align: middle;\n",
       "    }\n",
       "\n",
       "    .dataframe tbody tr th {\n",
       "        vertical-align: top;\n",
       "    }\n",
       "\n",
       "    .dataframe thead th {\n",
       "        text-align: right;\n",
       "    }\n",
       "</style>\n",
       "<table border=\"1\" class=\"dataframe\">\n",
       "  <thead>\n",
       "    <tr style=\"text-align: right;\">\n",
       "      <th></th>\n",
       "      <th>t</th>\n",
       "      <th>timedate</th>\n",
       "      <th>Ph</th>\n",
       "      <th>YTi</th>\n",
       "      <th>VAHU</th>\n",
       "      <th>TAHU</th>\n",
       "      <th>Ta</th>\n",
       "      <th>Ps</th>\n",
       "      <th>Vw</th>\n",
       "      <th>YTi_FF</th>\n",
       "    </tr>\n",
       "  </thead>\n",
       "  <tbody>\n",
       "    <tr>\n",
       "      <th>0</th>\n",
       "      <td>1</td>\n",
       "      <td>2023-07-01 00:00:00</td>\n",
       "      <td>0.017944</td>\n",
       "      <td>19.495</td>\n",
       "      <td>0.0</td>\n",
       "      <td>24.059999</td>\n",
       "      <td>17.7</td>\n",
       "      <td>1</td>\n",
       "      <td>0.0</td>\n",
       "      <td>19.5525</td>\n",
       "    </tr>\n",
       "    <tr>\n",
       "      <th>1</th>\n",
       "      <td>2</td>\n",
       "      <td>2023-07-01 00:10:00</td>\n",
       "      <td>0.012085</td>\n",
       "      <td>19.415</td>\n",
       "      <td>0.0</td>\n",
       "      <td>24.059999</td>\n",
       "      <td>17.7</td>\n",
       "      <td>1</td>\n",
       "      <td>0.0</td>\n",
       "      <td>19.6425</td>\n",
       "    </tr>\n",
       "    <tr>\n",
       "      <th>2</th>\n",
       "      <td>3</td>\n",
       "      <td>2023-07-01 00:20:00</td>\n",
       "      <td>0.017944</td>\n",
       "      <td>19.375</td>\n",
       "      <td>0.0</td>\n",
       "      <td>24.059999</td>\n",
       "      <td>17.8</td>\n",
       "      <td>1</td>\n",
       "      <td>0.0</td>\n",
       "      <td>19.6325</td>\n",
       "    </tr>\n",
       "    <tr>\n",
       "      <th>3</th>\n",
       "      <td>4</td>\n",
       "      <td>2023-07-01 00:30:00</td>\n",
       "      <td>0.012085</td>\n",
       "      <td>19.395</td>\n",
       "      <td>0.0</td>\n",
       "      <td>24.059999</td>\n",
       "      <td>17.8</td>\n",
       "      <td>1</td>\n",
       "      <td>0.0</td>\n",
       "      <td>19.3250</td>\n",
       "    </tr>\n",
       "    <tr>\n",
       "      <th>4</th>\n",
       "      <td>5</td>\n",
       "      <td>2023-07-01 00:40:00</td>\n",
       "      <td>0.024170</td>\n",
       "      <td>19.505</td>\n",
       "      <td>0.0</td>\n",
       "      <td>24.120000</td>\n",
       "      <td>17.9</td>\n",
       "      <td>1</td>\n",
       "      <td>0.0</td>\n",
       "      <td>19.4400</td>\n",
       "    </tr>\n",
       "  </tbody>\n",
       "</table>\n",
       "</div>"
      ],
      "text/plain": [
       "   t             timedate        Ph     YTi  VAHU       TAHU    Ta  Ps   Vw  \\\n",
       "0  1  2023-07-01 00:00:00  0.017944  19.495   0.0  24.059999  17.7   1  0.0   \n",
       "1  2  2023-07-01 00:10:00  0.012085  19.415   0.0  24.059999  17.7   1  0.0   \n",
       "2  3  2023-07-01 00:20:00  0.017944  19.375   0.0  24.059999  17.8   1  0.0   \n",
       "3  4  2023-07-01 00:30:00  0.012085  19.395   0.0  24.059999  17.8   1  0.0   \n",
       "4  5  2023-07-01 00:40:00  0.024170  19.505   0.0  24.120000  17.9   1  0.0   \n",
       "\n",
       "    YTi_FF  \n",
       "0  19.5525  \n",
       "1  19.6425  \n",
       "2  19.6325  \n",
       "3  19.3250  \n",
       "4  19.4400  "
      ]
     },
     "execution_count": 45,
     "metadata": {},
     "output_type": "execute_result"
    }
   ],
   "source": [
    "df = pd.read_csv('15.0-pandas-data.csv')\n",
    "df.head()"
   ]
  },
  {
   "cell_type": "code",
   "execution_count": 46,
   "id": "74bfc923",
   "metadata": {},
   "outputs": [
    {
     "name": "stdout",
     "output_type": "stream",
     "text": [
      "<class 'pandas.core.frame.DataFrame'>\n",
      "RangeIndex: 13248 entries, 0 to 13247\n",
      "Data columns (total 10 columns):\n",
      " #   Column    Non-Null Count  Dtype  \n",
      "---  ------    --------------  -----  \n",
      " 0   t         13248 non-null  int64  \n",
      " 1   timedate  13248 non-null  object \n",
      " 2   Ph        13247 non-null  float64\n",
      " 3   YTi       13247 non-null  float64\n",
      " 4   VAHU      13247 non-null  float64\n",
      " 5   TAHU      13247 non-null  float64\n",
      " 6   Ta        13248 non-null  float64\n",
      " 7   Ps        13248 non-null  int64  \n",
      " 8   Vw        13248 non-null  float64\n",
      " 9   YTi_FF    13247 non-null  float64\n",
      "dtypes: float64(7), int64(2), object(1)\n",
      "memory usage: 1.0+ MB\n"
     ]
    }
   ],
   "source": [
    "df.info()"
   ]
  },
  {
   "cell_type": "markdown",
   "id": "6d8f13dc",
   "metadata": {},
   "source": [
    "## Drop Unused Columns"
   ]
  },
  {
   "cell_type": "code",
   "execution_count": 47,
   "id": "b3a12083",
   "metadata": {},
   "outputs": [
    {
     "name": "stdout",
     "output_type": "stream",
     "text": [
      "<class 'pandas.core.frame.DataFrame'>\n",
      "RangeIndex: 13248 entries, 0 to 13247\n",
      "Data columns (total 6 columns):\n",
      " #   Column  Non-Null Count  Dtype  \n",
      "---  ------  --------------  -----  \n",
      " 0   YTi     13247 non-null  float64\n",
      " 1   VAHU    13247 non-null  float64\n",
      " 2   TAHU    13247 non-null  float64\n",
      " 3   Ta      13248 non-null  float64\n",
      " 4   Ps      13248 non-null  int64  \n",
      " 5   YTi_FF  13247 non-null  float64\n",
      "dtypes: float64(5), int64(1)\n",
      "memory usage: 621.1 KB\n"
     ]
    }
   ],
   "source": [
    "df = df.drop(['t', 'timedate', 'Ph', 'Vw'], axis=1)\n",
    "df.info()"
   ]
  },
  {
   "cell_type": "markdown",
   "id": "53830747",
   "metadata": {},
   "source": [
    "## Check for missing values"
   ]
  },
  {
   "cell_type": "code",
   "execution_count": 48,
   "id": "b25b92b9",
   "metadata": {},
   "outputs": [
    {
     "data": {
      "text/plain": [
       "YTi       1\n",
       "VAHU      1\n",
       "TAHU      1\n",
       "Ta        0\n",
       "Ps        0\n",
       "YTi_FF    1\n",
       "dtype: int64"
      ]
     },
     "execution_count": 48,
     "metadata": {},
     "output_type": "execute_result"
    }
   ],
   "source": [
    "df.isnull().sum()"
   ]
  },
  {
   "cell_type": "markdown",
   "id": "d331b950",
   "metadata": {},
   "source": [
    "## Drop the missing values"
   ]
  },
  {
   "cell_type": "code",
   "execution_count": 49,
   "id": "ea336480",
   "metadata": {},
   "outputs": [],
   "source": [
    "df = df.dropna()"
   ]
  },
  {
   "cell_type": "markdown",
   "id": "e5a849ba",
   "metadata": {},
   "source": [
    "## Check for missing values (again)"
   ]
  },
  {
   "cell_type": "code",
   "execution_count": 50,
   "id": "5ff94561",
   "metadata": {},
   "outputs": [
    {
     "data": {
      "text/plain": [
       "YTi       0\n",
       "VAHU      0\n",
       "TAHU      0\n",
       "Ta        0\n",
       "Ps        0\n",
       "YTi_FF    0\n",
       "dtype: int64"
      ]
     },
     "execution_count": 50,
     "metadata": {},
     "output_type": "execute_result"
    }
   ],
   "source": [
    "df.isnull().sum()"
   ]
  },
  {
   "cell_type": "markdown",
   "id": "79e03142",
   "metadata": {},
   "source": [
    "## check for duplicated values"
   ]
  },
  {
   "cell_type": "code",
   "execution_count": 51,
   "id": "ae53df51",
   "metadata": {},
   "outputs": [
    {
     "data": {
      "text/plain": [
       "np.int64(0)"
      ]
     },
     "execution_count": 51,
     "metadata": {},
     "output_type": "execute_result"
    }
   ],
   "source": [
    "df.duplicated().sum()"
   ]
  },
  {
   "cell_type": "markdown",
   "id": "94e32f2d",
   "metadata": {},
   "source": [
    "## Get X Columns (pandas) Dataset"
   ]
  },
  {
   "cell_type": "code",
   "execution_count": 52,
   "id": "8b425503",
   "metadata": {},
   "outputs": [
    {
     "data": {
      "text/html": [
       "<div>\n",
       "<style scoped>\n",
       "    .dataframe tbody tr th:only-of-type {\n",
       "        vertical-align: middle;\n",
       "    }\n",
       "\n",
       "    .dataframe tbody tr th {\n",
       "        vertical-align: top;\n",
       "    }\n",
       "\n",
       "    .dataframe thead th {\n",
       "        text-align: right;\n",
       "    }\n",
       "</style>\n",
       "<table border=\"1\" class=\"dataframe\">\n",
       "  <thead>\n",
       "    <tr style=\"text-align: right;\">\n",
       "      <th></th>\n",
       "      <th>VAHU</th>\n",
       "      <th>TAHU</th>\n",
       "      <th>Ta</th>\n",
       "      <th>Ps</th>\n",
       "      <th>YTi_FF</th>\n",
       "    </tr>\n",
       "  </thead>\n",
       "  <tbody>\n",
       "    <tr>\n",
       "      <th>0</th>\n",
       "      <td>0.0</td>\n",
       "      <td>24.059999</td>\n",
       "      <td>17.7</td>\n",
       "      <td>1</td>\n",
       "      <td>19.552500</td>\n",
       "    </tr>\n",
       "    <tr>\n",
       "      <th>1</th>\n",
       "      <td>0.0</td>\n",
       "      <td>24.059999</td>\n",
       "      <td>17.7</td>\n",
       "      <td>1</td>\n",
       "      <td>19.642500</td>\n",
       "    </tr>\n",
       "    <tr>\n",
       "      <th>2</th>\n",
       "      <td>0.0</td>\n",
       "      <td>24.059999</td>\n",
       "      <td>17.8</td>\n",
       "      <td>1</td>\n",
       "      <td>19.632500</td>\n",
       "    </tr>\n",
       "    <tr>\n",
       "      <th>3</th>\n",
       "      <td>0.0</td>\n",
       "      <td>24.059999</td>\n",
       "      <td>17.8</td>\n",
       "      <td>1</td>\n",
       "      <td>19.325000</td>\n",
       "    </tr>\n",
       "    <tr>\n",
       "      <th>4</th>\n",
       "      <td>0.0</td>\n",
       "      <td>24.120000</td>\n",
       "      <td>17.9</td>\n",
       "      <td>1</td>\n",
       "      <td>19.440000</td>\n",
       "    </tr>\n",
       "    <tr>\n",
       "      <th>...</th>\n",
       "      <td>...</td>\n",
       "      <td>...</td>\n",
       "      <td>...</td>\n",
       "      <td>...</td>\n",
       "      <td>...</td>\n",
       "    </tr>\n",
       "    <tr>\n",
       "      <th>13243</th>\n",
       "      <td>0.0</td>\n",
       "      <td>22.809999</td>\n",
       "      <td>15.9</td>\n",
       "      <td>1</td>\n",
       "      <td>21.175000</td>\n",
       "    </tr>\n",
       "    <tr>\n",
       "      <th>13244</th>\n",
       "      <td>0.0</td>\n",
       "      <td>22.809999</td>\n",
       "      <td>15.9</td>\n",
       "      <td>1</td>\n",
       "      <td>21.252500</td>\n",
       "    </tr>\n",
       "    <tr>\n",
       "      <th>13245</th>\n",
       "      <td>0.0</td>\n",
       "      <td>22.809999</td>\n",
       "      <td>16.0</td>\n",
       "      <td>2</td>\n",
       "      <td>21.260000</td>\n",
       "    </tr>\n",
       "    <tr>\n",
       "      <th>13246</th>\n",
       "      <td>0.0</td>\n",
       "      <td>22.809999</td>\n",
       "      <td>16.1</td>\n",
       "      <td>1</td>\n",
       "      <td>21.145000</td>\n",
       "    </tr>\n",
       "    <tr>\n",
       "      <th>13247</th>\n",
       "      <td>0.0</td>\n",
       "      <td>22.809999</td>\n",
       "      <td>16.2</td>\n",
       "      <td>1</td>\n",
       "      <td>21.179999</td>\n",
       "    </tr>\n",
       "  </tbody>\n",
       "</table>\n",
       "<p>13247 rows × 5 columns</p>\n",
       "</div>"
      ],
      "text/plain": [
       "       VAHU       TAHU    Ta  Ps     YTi_FF\n",
       "0       0.0  24.059999  17.7   1  19.552500\n",
       "1       0.0  24.059999  17.7   1  19.642500\n",
       "2       0.0  24.059999  17.8   1  19.632500\n",
       "3       0.0  24.059999  17.8   1  19.325000\n",
       "4       0.0  24.120000  17.9   1  19.440000\n",
       "...     ...        ...   ...  ..        ...\n",
       "13243   0.0  22.809999  15.9   1  21.175000\n",
       "13244   0.0  22.809999  15.9   1  21.252500\n",
       "13245   0.0  22.809999  16.0   2  21.260000\n",
       "13246   0.0  22.809999  16.1   1  21.145000\n",
       "13247   0.0  22.809999  16.2   1  21.179999\n",
       "\n",
       "[13247 rows x 5 columns]"
      ]
     },
     "execution_count": 52,
     "metadata": {},
     "output_type": "execute_result"
    }
   ],
   "source": [
    "X = df[['VAHU', 'TAHU', 'Ta', 'Ps', 'YTi_FF']]\n",
    "X"
   ]
  },
  {
   "cell_type": "markdown",
   "id": "06d051ec",
   "metadata": {},
   "source": [
    "## Get X Columns (pandas) Dataset as a (numpy) 2d Matrix"
   ]
  },
  {
   "cell_type": "code",
   "execution_count": 53,
   "id": "8101fa31",
   "metadata": {},
   "outputs": [
    {
     "data": {
      "text/plain": [
       "array([[ 0.        , 24.05999947, 17.7       ,  1.        , 19.55249977],\n",
       "       [ 0.        , 24.05999947, 17.7       ,  1.        , 19.64249992],\n",
       "       [ 0.        , 24.05999947, 17.8       ,  1.        , 19.63249969],\n",
       "       ...,\n",
       "       [ 0.        , 22.80999947, 16.        ,  2.        , 21.26000023],\n",
       "       [ 0.        , 22.80999947, 16.1       ,  1.        , 21.1449995 ],\n",
       "       [ 0.        , 22.80999947, 16.2       ,  1.        , 21.17999935]])"
      ]
     },
     "execution_count": 53,
     "metadata": {},
     "output_type": "execute_result"
    }
   ],
   "source": [
    "X = X.values\n",
    "X"
   ]
  },
  {
   "cell_type": "markdown",
   "id": "0e8b5850",
   "metadata": {},
   "source": [
    "## Get y Column (pandas) Dataset"
   ]
  },
  {
   "cell_type": "code",
   "execution_count": 54,
   "id": "8b616116",
   "metadata": {},
   "outputs": [
    {
     "data": {
      "text/plain": [
       "0        19.4950\n",
       "1        19.4150\n",
       "2        19.3750\n",
       "3        19.3950\n",
       "4        19.5050\n",
       "          ...   \n",
       "13243    20.7875\n",
       "13244    20.7200\n",
       "13245    20.6975\n",
       "13246    20.7175\n",
       "13247    20.7100\n",
       "Name: YTi, Length: 13247, dtype: float64"
      ]
     },
     "execution_count": 54,
     "metadata": {},
     "output_type": "execute_result"
    }
   ],
   "source": [
    "y = df['YTi']\n",
    "y"
   ]
  },
  {
   "cell_type": "markdown",
   "id": "d9bec21f",
   "metadata": {},
   "source": [
    "## Get y Column (pandas) Dataset as a (numpy) 1d Array"
   ]
  },
  {
   "cell_type": "code",
   "execution_count": 55,
   "id": "ee6ae9e2",
   "metadata": {},
   "outputs": [
    {
     "data": {
      "text/plain": [
       "array([19.49499989, 19.41499996, 19.375     , ..., 20.69750023,\n",
       "       20.71749973, 20.71000004])"
      ]
     },
     "execution_count": 55,
     "metadata": {},
     "output_type": "execute_result"
    }
   ],
   "source": [
    "y = y.values\n",
    "y"
   ]
  },
  {
   "cell_type": "markdown",
   "id": "33679810",
   "metadata": {},
   "source": [
    "## Scale y"
   ]
  },
  {
   "cell_type": "code",
   "execution_count": 56,
   "id": "89b33b52",
   "metadata": {},
   "outputs": [
    {
     "ename": "ValueError",
     "evalue": "Expected 2D array, got 1D array instead:\narray=[19.49499989 19.41499996 19.375      ... 20.69750023 20.71749973\n 20.71000004].\nReshape your data either using array.reshape(-1, 1) if your data has a single feature or array.reshape(1, -1) if it contains a single sample.",
     "output_type": "error",
     "traceback": [
      "\u001b[31m---------------------------------------------------------------------------\u001b[39m",
      "\u001b[31mValueError\u001b[39m                                Traceback (most recent call last)",
      "\u001b[36mCell\u001b[39m\u001b[36m \u001b[39m\u001b[32mIn[56]\u001b[39m\u001b[32m, line 2\u001b[39m\n\u001b[32m      1\u001b[39m scY = MinMaxScaler()\n\u001b[32m----> \u001b[39m\u001b[32m2\u001b[39m y = \u001b[43mscY\u001b[49m\u001b[43m.\u001b[49m\u001b[43mfit_transform\u001b[49m\u001b[43m(\u001b[49m\u001b[43my\u001b[49m\u001b[43m)\u001b[49m\n\u001b[32m      3\u001b[39m y\n",
      "\u001b[36mFile \u001b[39m\u001b[32m~/micromamba/envs/planA-lessons/lib/python3.12/site-packages/sklearn/utils/_set_output.py:316\u001b[39m, in \u001b[36m_wrap_method_output.<locals>.wrapped\u001b[39m\u001b[34m(self, X, *args, **kwargs)\u001b[39m\n\u001b[32m    314\u001b[39m \u001b[38;5;129m@wraps\u001b[39m(f)\n\u001b[32m    315\u001b[39m \u001b[38;5;28;01mdef\u001b[39;00m\u001b[38;5;250m \u001b[39m\u001b[34mwrapped\u001b[39m(\u001b[38;5;28mself\u001b[39m, X, *args, **kwargs):\n\u001b[32m--> \u001b[39m\u001b[32m316\u001b[39m     data_to_wrap = \u001b[43mf\u001b[49m\u001b[43m(\u001b[49m\u001b[38;5;28;43mself\u001b[39;49m\u001b[43m,\u001b[49m\u001b[43m \u001b[49m\u001b[43mX\u001b[49m\u001b[43m,\u001b[49m\u001b[43m \u001b[49m\u001b[43m*\u001b[49m\u001b[43margs\u001b[49m\u001b[43m,\u001b[49m\u001b[43m \u001b[49m\u001b[43m*\u001b[49m\u001b[43m*\u001b[49m\u001b[43mkwargs\u001b[49m\u001b[43m)\u001b[49m\n\u001b[32m    317\u001b[39m     \u001b[38;5;28;01mif\u001b[39;00m \u001b[38;5;28misinstance\u001b[39m(data_to_wrap, \u001b[38;5;28mtuple\u001b[39m):\n\u001b[32m    318\u001b[39m         \u001b[38;5;66;03m# only wrap the first output for cross decomposition\u001b[39;00m\n\u001b[32m    319\u001b[39m         return_tuple = (\n\u001b[32m    320\u001b[39m             _wrap_data_with_container(method, data_to_wrap[\u001b[32m0\u001b[39m], X, \u001b[38;5;28mself\u001b[39m),\n\u001b[32m    321\u001b[39m             *data_to_wrap[\u001b[32m1\u001b[39m:],\n\u001b[32m    322\u001b[39m         )\n",
      "\u001b[36mFile \u001b[39m\u001b[32m~/micromamba/envs/planA-lessons/lib/python3.12/site-packages/sklearn/base.py:892\u001b[39m, in \u001b[36mTransformerMixin.fit_transform\u001b[39m\u001b[34m(self, X, y, **fit_params)\u001b[39m\n\u001b[32m    877\u001b[39m         warnings.warn(\n\u001b[32m    878\u001b[39m             (\n\u001b[32m    879\u001b[39m                 \u001b[33mf\u001b[39m\u001b[33m\"\u001b[39m\u001b[33mThis object (\u001b[39m\u001b[38;5;132;01m{\u001b[39;00m\u001b[38;5;28mself\u001b[39m.\u001b[34m__class__\u001b[39m.\u001b[34m__name__\u001b[39m\u001b[38;5;132;01m}\u001b[39;00m\u001b[33m) has a `transform`\u001b[39m\u001b[33m\"\u001b[39m\n\u001b[32m   (...)\u001b[39m\u001b[32m    887\u001b[39m             \u001b[38;5;167;01mUserWarning\u001b[39;00m,\n\u001b[32m    888\u001b[39m         )\n\u001b[32m    890\u001b[39m \u001b[38;5;28;01mif\u001b[39;00m y \u001b[38;5;129;01mis\u001b[39;00m \u001b[38;5;28;01mNone\u001b[39;00m:\n\u001b[32m    891\u001b[39m     \u001b[38;5;66;03m# fit method of arity 1 (unsupervised transformation)\u001b[39;00m\n\u001b[32m--> \u001b[39m\u001b[32m892\u001b[39m     \u001b[38;5;28;01mreturn\u001b[39;00m \u001b[38;5;28;43mself\u001b[39;49m\u001b[43m.\u001b[49m\u001b[43mfit\u001b[49m\u001b[43m(\u001b[49m\u001b[43mX\u001b[49m\u001b[43m,\u001b[49m\u001b[43m \u001b[49m\u001b[43m*\u001b[49m\u001b[43m*\u001b[49m\u001b[43mfit_params\u001b[49m\u001b[43m)\u001b[49m.transform(X)\n\u001b[32m    893\u001b[39m \u001b[38;5;28;01melse\u001b[39;00m:\n\u001b[32m    894\u001b[39m     \u001b[38;5;66;03m# fit method of arity 2 (supervised transformation)\u001b[39;00m\n\u001b[32m    895\u001b[39m     \u001b[38;5;28;01mreturn\u001b[39;00m \u001b[38;5;28mself\u001b[39m.fit(X, y, **fit_params).transform(X)\n",
      "\u001b[36mFile \u001b[39m\u001b[32m~/micromamba/envs/planA-lessons/lib/python3.12/site-packages/sklearn/preprocessing/_data.py:454\u001b[39m, in \u001b[36mMinMaxScaler.fit\u001b[39m\u001b[34m(self, X, y)\u001b[39m\n\u001b[32m    452\u001b[39m \u001b[38;5;66;03m# Reset internal state before fitting\u001b[39;00m\n\u001b[32m    453\u001b[39m \u001b[38;5;28mself\u001b[39m._reset()\n\u001b[32m--> \u001b[39m\u001b[32m454\u001b[39m \u001b[38;5;28;01mreturn\u001b[39;00m \u001b[38;5;28;43mself\u001b[39;49m\u001b[43m.\u001b[49m\u001b[43mpartial_fit\u001b[49m\u001b[43m(\u001b[49m\u001b[43mX\u001b[49m\u001b[43m,\u001b[49m\u001b[43m \u001b[49m\u001b[43my\u001b[49m\u001b[43m)\u001b[49m\n",
      "\u001b[36mFile \u001b[39m\u001b[32m~/micromamba/envs/planA-lessons/lib/python3.12/site-packages/sklearn/base.py:1363\u001b[39m, in \u001b[36m_fit_context.<locals>.decorator.<locals>.wrapper\u001b[39m\u001b[34m(estimator, *args, **kwargs)\u001b[39m\n\u001b[32m   1356\u001b[39m     estimator._validate_params()\n\u001b[32m   1358\u001b[39m \u001b[38;5;28;01mwith\u001b[39;00m config_context(\n\u001b[32m   1359\u001b[39m     skip_parameter_validation=(\n\u001b[32m   1360\u001b[39m         prefer_skip_nested_validation \u001b[38;5;129;01mor\u001b[39;00m global_skip_validation\n\u001b[32m   1361\u001b[39m     )\n\u001b[32m   1362\u001b[39m ):\n\u001b[32m-> \u001b[39m\u001b[32m1363\u001b[39m     \u001b[38;5;28;01mreturn\u001b[39;00m \u001b[43mfit_method\u001b[49m\u001b[43m(\u001b[49m\u001b[43mestimator\u001b[49m\u001b[43m,\u001b[49m\u001b[43m \u001b[49m\u001b[43m*\u001b[49m\u001b[43margs\u001b[49m\u001b[43m,\u001b[49m\u001b[43m \u001b[49m\u001b[43m*\u001b[49m\u001b[43m*\u001b[49m\u001b[43mkwargs\u001b[49m\u001b[43m)\u001b[49m\n",
      "\u001b[36mFile \u001b[39m\u001b[32m~/micromamba/envs/planA-lessons/lib/python3.12/site-packages/sklearn/preprocessing/_data.py:494\u001b[39m, in \u001b[36mMinMaxScaler.partial_fit\u001b[39m\u001b[34m(self, X, y)\u001b[39m\n\u001b[32m    491\u001b[39m xp, _ = get_namespace(X)\n\u001b[32m    493\u001b[39m first_pass = \u001b[38;5;129;01mnot\u001b[39;00m \u001b[38;5;28mhasattr\u001b[39m(\u001b[38;5;28mself\u001b[39m, \u001b[33m\"\u001b[39m\u001b[33mn_samples_seen_\u001b[39m\u001b[33m\"\u001b[39m)\n\u001b[32m--> \u001b[39m\u001b[32m494\u001b[39m X = \u001b[43mvalidate_data\u001b[49m\u001b[43m(\u001b[49m\n\u001b[32m    495\u001b[39m \u001b[43m    \u001b[49m\u001b[38;5;28;43mself\u001b[39;49m\u001b[43m,\u001b[49m\n\u001b[32m    496\u001b[39m \u001b[43m    \u001b[49m\u001b[43mX\u001b[49m\u001b[43m,\u001b[49m\n\u001b[32m    497\u001b[39m \u001b[43m    \u001b[49m\u001b[43mreset\u001b[49m\u001b[43m=\u001b[49m\u001b[43mfirst_pass\u001b[49m\u001b[43m,\u001b[49m\n\u001b[32m    498\u001b[39m \u001b[43m    \u001b[49m\u001b[43mdtype\u001b[49m\u001b[43m=\u001b[49m\u001b[43m_array_api\u001b[49m\u001b[43m.\u001b[49m\u001b[43msupported_float_dtypes\u001b[49m\u001b[43m(\u001b[49m\u001b[43mxp\u001b[49m\u001b[43m)\u001b[49m\u001b[43m,\u001b[49m\n\u001b[32m    499\u001b[39m \u001b[43m    \u001b[49m\u001b[43mensure_all_finite\u001b[49m\u001b[43m=\u001b[49m\u001b[33;43m\"\u001b[39;49m\u001b[33;43mallow-nan\u001b[39;49m\u001b[33;43m\"\u001b[39;49m\u001b[43m,\u001b[49m\n\u001b[32m    500\u001b[39m \u001b[43m\u001b[49m\u001b[43m)\u001b[49m\n\u001b[32m    502\u001b[39m device_ = device(X)\n\u001b[32m    503\u001b[39m feature_range = (\n\u001b[32m    504\u001b[39m     xp.asarray(feature_range[\u001b[32m0\u001b[39m], dtype=X.dtype, device=device_),\n\u001b[32m    505\u001b[39m     xp.asarray(feature_range[\u001b[32m1\u001b[39m], dtype=X.dtype, device=device_),\n\u001b[32m    506\u001b[39m )\n",
      "\u001b[36mFile \u001b[39m\u001b[32m~/micromamba/envs/planA-lessons/lib/python3.12/site-packages/sklearn/utils/validation.py:2954\u001b[39m, in \u001b[36mvalidate_data\u001b[39m\u001b[34m(_estimator, X, y, reset, validate_separately, skip_check_array, **check_params)\u001b[39m\n\u001b[32m   2952\u001b[39m         out = X, y\n\u001b[32m   2953\u001b[39m \u001b[38;5;28;01melif\u001b[39;00m \u001b[38;5;129;01mnot\u001b[39;00m no_val_X \u001b[38;5;129;01mand\u001b[39;00m no_val_y:\n\u001b[32m-> \u001b[39m\u001b[32m2954\u001b[39m     out = \u001b[43mcheck_array\u001b[49m\u001b[43m(\u001b[49m\u001b[43mX\u001b[49m\u001b[43m,\u001b[49m\u001b[43m \u001b[49m\u001b[43minput_name\u001b[49m\u001b[43m=\u001b[49m\u001b[33;43m\"\u001b[39;49m\u001b[33;43mX\u001b[39;49m\u001b[33;43m\"\u001b[39;49m\u001b[43m,\u001b[49m\u001b[43m \u001b[49m\u001b[43m*\u001b[49m\u001b[43m*\u001b[49m\u001b[43mcheck_params\u001b[49m\u001b[43m)\u001b[49m\n\u001b[32m   2955\u001b[39m \u001b[38;5;28;01melif\u001b[39;00m no_val_X \u001b[38;5;129;01mand\u001b[39;00m \u001b[38;5;129;01mnot\u001b[39;00m no_val_y:\n\u001b[32m   2956\u001b[39m     out = _check_y(y, **check_params)\n",
      "\u001b[36mFile \u001b[39m\u001b[32m~/micromamba/envs/planA-lessons/lib/python3.12/site-packages/sklearn/utils/validation.py:1091\u001b[39m, in \u001b[36mcheck_array\u001b[39m\u001b[34m(array, accept_sparse, accept_large_sparse, dtype, order, copy, force_writeable, force_all_finite, ensure_all_finite, ensure_non_negative, ensure_2d, allow_nd, ensure_min_samples, ensure_min_features, estimator, input_name)\u001b[39m\n\u001b[32m   1084\u001b[39m         \u001b[38;5;28;01melse\u001b[39;00m:\n\u001b[32m   1085\u001b[39m             msg = (\n\u001b[32m   1086\u001b[39m                 \u001b[33mf\u001b[39m\u001b[33m\"\u001b[39m\u001b[33mExpected 2D array, got 1D array instead:\u001b[39m\u001b[38;5;130;01m\\n\u001b[39;00m\u001b[33marray=\u001b[39m\u001b[38;5;132;01m{\u001b[39;00marray\u001b[38;5;132;01m}\u001b[39;00m\u001b[33m.\u001b[39m\u001b[38;5;130;01m\\n\u001b[39;00m\u001b[33m\"\u001b[39m\n\u001b[32m   1087\u001b[39m                 \u001b[33m\"\u001b[39m\u001b[33mReshape your data either using array.reshape(-1, 1) if \u001b[39m\u001b[33m\"\u001b[39m\n\u001b[32m   1088\u001b[39m                 \u001b[33m\"\u001b[39m\u001b[33myour data has a single feature or array.reshape(1, -1) \u001b[39m\u001b[33m\"\u001b[39m\n\u001b[32m   1089\u001b[39m                 \u001b[33m\"\u001b[39m\u001b[33mif it contains a single sample.\u001b[39m\u001b[33m\"\u001b[39m\n\u001b[32m   1090\u001b[39m             )\n\u001b[32m-> \u001b[39m\u001b[32m1091\u001b[39m         \u001b[38;5;28;01mraise\u001b[39;00m \u001b[38;5;167;01mValueError\u001b[39;00m(msg)\n\u001b[32m   1093\u001b[39m \u001b[38;5;28;01mif\u001b[39;00m dtype_numeric \u001b[38;5;129;01mand\u001b[39;00m \u001b[38;5;28mhasattr\u001b[39m(array.dtype, \u001b[33m\"\u001b[39m\u001b[33mkind\u001b[39m\u001b[33m\"\u001b[39m) \u001b[38;5;129;01mand\u001b[39;00m array.dtype.kind \u001b[38;5;129;01min\u001b[39;00m \u001b[33m\"\u001b[39m\u001b[33mUSV\u001b[39m\u001b[33m\"\u001b[39m:\n\u001b[32m   1094\u001b[39m     \u001b[38;5;28;01mraise\u001b[39;00m \u001b[38;5;167;01mValueError\u001b[39;00m(\n\u001b[32m   1095\u001b[39m         \u001b[33m\"\u001b[39m\u001b[33mdtype=\u001b[39m\u001b[33m'\u001b[39m\u001b[33mnumeric\u001b[39m\u001b[33m'\u001b[39m\u001b[33m is not compatible with arrays of bytes/strings.\u001b[39m\u001b[33m\"\u001b[39m\n\u001b[32m   1096\u001b[39m         \u001b[33m\"\u001b[39m\u001b[33mConvert your data to numeric values explicitly instead.\u001b[39m\u001b[33m\"\u001b[39m\n\u001b[32m   1097\u001b[39m     )\n",
      "\u001b[31mValueError\u001b[39m: Expected 2D array, got 1D array instead:\narray=[19.49499989 19.41499996 19.375      ... 20.69750023 20.71749973\n 20.71000004].\nReshape your data either using array.reshape(-1, 1) if your data has a single feature or array.reshape(1, -1) if it contains a single sample."
     ]
    }
   ],
   "source": [
    "scY = MinMaxScaler()\n",
    "y = scY.fit_transform(y)\n",
    "y"
   ]
  },
  {
   "cell_type": "markdown",
   "id": "630df3ef",
   "metadata": {},
   "source": [
    "## Reshape y (numpy) 1d Array into a (numpy) 2d Matrix of 1 Column"
   ]
  },
  {
   "cell_type": "code",
   "execution_count": 57,
   "id": "d95c2ef9",
   "metadata": {},
   "outputs": [
    {
     "data": {
      "text/plain": [
       "array([[19.49499989],\n",
       "       [19.41499996],\n",
       "       [19.375     ],\n",
       "       ...,\n",
       "       [20.69750023],\n",
       "       [20.71749973],\n",
       "       [20.71000004]])"
      ]
     },
     "execution_count": 57,
     "metadata": {},
     "output_type": "execute_result"
    }
   ],
   "source": [
    "y = y.reshape(-1, 1)\n",
    "y"
   ]
  },
  {
   "cell_type": "markdown",
   "id": "e7473974",
   "metadata": {},
   "source": [
    "## Scale y (again)"
   ]
  },
  {
   "cell_type": "code",
   "execution_count": 58,
   "id": "6d5d23c0",
   "metadata": {},
   "outputs": [
    {
     "data": {
      "text/plain": [
       "array([[0.41056421],\n",
       "       [0.40288115],\n",
       "       [0.39903961],\n",
       "       ...,\n",
       "       [0.52605045],\n",
       "       [0.52797117],\n",
       "       [0.52725091]])"
      ]
     },
     "execution_count": 58,
     "metadata": {},
     "output_type": "execute_result"
    }
   ],
   "source": [
    "scY = MinMaxScaler()\n",
    "y = scY.fit_transform(y)\n",
    "y"
   ]
  },
  {
   "cell_type": "markdown",
   "id": "1802f313",
   "metadata": {},
   "source": [
    "## Reshape examples"
   ]
  },
  {
   "cell_type": "markdown",
   "id": "f838cac3",
   "metadata": {},
   "source": [
    "### 1d array"
   ]
  },
  {
   "cell_type": "code",
   "execution_count": 59,
   "id": "a369e3fb",
   "metadata": {},
   "outputs": [
    {
     "data": {
      "text/plain": [
       "array([0.41056421, 0.40288115, 0.39903961, ..., 0.52605045, 0.52797117,\n",
       "       0.52725091])"
      ]
     },
     "execution_count": 59,
     "metadata": {},
     "output_type": "execute_result"
    }
   ],
   "source": [
    "y = y.reshape(-1, )\n",
    "y"
   ]
  },
  {
   "cell_type": "markdown",
   "id": "c50b64ca",
   "metadata": {},
   "source": [
    "### 2d array (1 row, many columns)"
   ]
  },
  {
   "cell_type": "code",
   "execution_count": 60,
   "id": "b8cefc00",
   "metadata": {},
   "outputs": [
    {
     "data": {
      "text/plain": [
       "array([[0.41056421, 0.40288115, 0.39903961, ..., 0.52605045, 0.52797117,\n",
       "        0.52725091]])"
      ]
     },
     "execution_count": 60,
     "metadata": {},
     "output_type": "execute_result"
    }
   ],
   "source": [
    "y = y.reshape(1, -1)\n",
    "y"
   ]
  },
  {
   "cell_type": "markdown",
   "id": "fec03306",
   "metadata": {},
   "source": [
    "### 2d array (many rows, 1 columns)"
   ]
  },
  {
   "cell_type": "code",
   "execution_count": 61,
   "id": "c65ab337",
   "metadata": {},
   "outputs": [
    {
     "data": {
      "text/plain": [
       "array([[0.41056421],\n",
       "       [0.40288115],\n",
       "       [0.39903961],\n",
       "       ...,\n",
       "       [0.52605045],\n",
       "       [0.52797117],\n",
       "       [0.52725091]])"
      ]
     },
     "execution_count": 61,
     "metadata": {},
     "output_type": "execute_result"
    }
   ],
   "source": [
    "y = y.reshape(-1, 1)\n",
    "y"
   ]
  }
 ],
 "metadata": {
  "kernelspec": {
   "display_name": "Python 3",
   "language": "python",
   "name": "python3"
  },
  "language_info": {
   "codemirror_mode": {
    "name": "ipython",
    "version": 3
   },
   "file_extension": ".py",
   "mimetype": "text/x-python",
   "name": "python",
   "nbconvert_exporter": "python",
   "pygments_lexer": "ipython3",
   "version": "3.12.11"
  }
 },
 "nbformat": 4,
 "nbformat_minor": 5
}
