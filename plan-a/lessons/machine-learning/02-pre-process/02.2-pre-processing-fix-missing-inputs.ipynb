{
 "cells": [
  {
   "cell_type": "markdown",
   "id": "0bbff54b",
   "metadata": {},
   "source": [
    "# 02.2 Pre Processing - Fix Missing Inputs"
   ]
  },
  {
   "cell_type": "code",
   "execution_count": 59,
   "id": "09fc6b55",
   "metadata": {},
   "outputs": [],
   "source": [
    "import pandas\n",
    "import numpy as np\n",
    "from sklearn.impute import SimpleImputer"
   ]
  },
  {
   "cell_type": "code",
   "execution_count": 60,
   "id": "07c28f1e",
   "metadata": {},
   "outputs": [
    {
     "data": {
      "text/html": [
       "<div>\n",
       "<style scoped>\n",
       "    .dataframe tbody tr th:only-of-type {\n",
       "        vertical-align: middle;\n",
       "    }\n",
       "\n",
       "    .dataframe tbody tr th {\n",
       "        vertical-align: top;\n",
       "    }\n",
       "\n",
       "    .dataframe thead th {\n",
       "        text-align: right;\n",
       "    }\n",
       "</style>\n",
       "<table border=\"1\" class=\"dataframe\">\n",
       "  <thead>\n",
       "    <tr style=\"text-align: right;\">\n",
       "      <th></th>\n",
       "      <th>Country</th>\n",
       "      <th>Age</th>\n",
       "      <th>Salary</th>\n",
       "      <th>Purchased</th>\n",
       "    </tr>\n",
       "  </thead>\n",
       "  <tbody>\n",
       "    <tr>\n",
       "      <th>0</th>\n",
       "      <td>France</td>\n",
       "      <td>44.0</td>\n",
       "      <td>72000.0</td>\n",
       "      <td>No</td>\n",
       "    </tr>\n",
       "    <tr>\n",
       "      <th>1</th>\n",
       "      <td>Spain</td>\n",
       "      <td>27.0</td>\n",
       "      <td>48000.0</td>\n",
       "      <td>Yes</td>\n",
       "    </tr>\n",
       "    <tr>\n",
       "      <th>2</th>\n",
       "      <td>Germany</td>\n",
       "      <td>30.0</td>\n",
       "      <td>54000.0</td>\n",
       "      <td>No</td>\n",
       "    </tr>\n",
       "    <tr>\n",
       "      <th>3</th>\n",
       "      <td>Spain</td>\n",
       "      <td>38.0</td>\n",
       "      <td>61000.0</td>\n",
       "      <td>No</td>\n",
       "    </tr>\n",
       "    <tr>\n",
       "      <th>4</th>\n",
       "      <td>Germany</td>\n",
       "      <td>40.0</td>\n",
       "      <td>NaN</td>\n",
       "      <td>Yes</td>\n",
       "    </tr>\n",
       "    <tr>\n",
       "      <th>5</th>\n",
       "      <td>France</td>\n",
       "      <td>35.0</td>\n",
       "      <td>58000.0</td>\n",
       "      <td>Yes</td>\n",
       "    </tr>\n",
       "    <tr>\n",
       "      <th>6</th>\n",
       "      <td>Spain</td>\n",
       "      <td>NaN</td>\n",
       "      <td>52000.0</td>\n",
       "      <td>No</td>\n",
       "    </tr>\n",
       "    <tr>\n",
       "      <th>7</th>\n",
       "      <td>France</td>\n",
       "      <td>48.0</td>\n",
       "      <td>79000.0</td>\n",
       "      <td>Yes</td>\n",
       "    </tr>\n",
       "    <tr>\n",
       "      <th>8</th>\n",
       "      <td>Germany</td>\n",
       "      <td>50.0</td>\n",
       "      <td>83000.0</td>\n",
       "      <td>No</td>\n",
       "    </tr>\n",
       "    <tr>\n",
       "      <th>9</th>\n",
       "      <td>France</td>\n",
       "      <td>37.0</td>\n",
       "      <td>67000.0</td>\n",
       "      <td>Yes</td>\n",
       "    </tr>\n",
       "  </tbody>\n",
       "</table>\n",
       "</div>"
      ],
      "text/plain": [
       "   Country   Age   Salary Purchased\n",
       "0   France  44.0  72000.0        No\n",
       "1    Spain  27.0  48000.0       Yes\n",
       "2  Germany  30.0  54000.0        No\n",
       "3    Spain  38.0  61000.0        No\n",
       "4  Germany  40.0      NaN       Yes\n",
       "5   France  35.0  58000.0       Yes\n",
       "6    Spain   NaN  52000.0        No\n",
       "7   France  48.0  79000.0       Yes\n",
       "8  Germany  50.0  83000.0        No\n",
       "9   France  37.0  67000.0       Yes"
      ]
     },
     "execution_count": 60,
     "metadata": {},
     "output_type": "execute_result"
    }
   ],
   "source": [
    "df = pandas.read_csv(\"02-pre-process-data.csv\")\n",
    "df"
   ]
  },
  {
   "cell_type": "markdown",
   "id": "01ec39b4",
   "metadata": {},
   "source": [
    "## Raw DataFrame observation"
   ]
  },
  {
   "cell_type": "code",
   "execution_count": 61,
   "id": "3beb723a",
   "metadata": {},
   "outputs": [
    {
     "name": "stdout",
     "output_type": "stream",
     "text": [
      "<class 'pandas.core.frame.DataFrame'>\n",
      "RangeIndex: 10 entries, 0 to 9\n",
      "Data columns (total 4 columns):\n",
      " #   Column     Non-Null Count  Dtype  \n",
      "---  ------     --------------  -----  \n",
      " 0   Country    10 non-null     object \n",
      " 1   Age        9 non-null      float64\n",
      " 2   Salary     9 non-null      float64\n",
      " 3   Purchased  10 non-null     object \n",
      "dtypes: float64(2), object(2)\n",
      "memory usage: 452.0+ bytes\n"
     ]
    }
   ],
   "source": [
    "df.info()"
   ]
  },
  {
   "cell_type": "markdown",
   "id": "a95b30aa",
   "metadata": {},
   "source": [
    "**Conclusion:**\n",
    "* some missing values\n",
    "    * total of 10 values in the Country column\n",
    "    * total of <span style=\"color: red;\">**9**</span> values in the Age column\n",
    "    * total of <span style=\"color: red;\">**9**</span> values in the Salary column\n",
    "    * total of 10 values in the Purchased column\n",
    "* Age and Salary columns need to be fixed"
   ]
  },
  {
   "cell_type": "markdown",
   "id": "93264104",
   "metadata": {},
   "source": [
    "## Check for missing values"
   ]
  },
  {
   "cell_type": "code",
   "execution_count": 62,
   "id": "2d67f319",
   "metadata": {},
   "outputs": [
    {
     "data": {
      "text/plain": [
       "Country      0\n",
       "Age          1\n",
       "Salary       1\n",
       "Purchased    0\n",
       "dtype: int64"
      ]
     },
     "execution_count": 62,
     "metadata": {},
     "output_type": "execute_result"
    }
   ],
   "source": [
    "df.isnull().sum()"
   ]
  },
  {
   "cell_type": "markdown",
   "id": "cbc516d5",
   "metadata": {},
   "source": [
    "**Conclusion:**\n",
    "* 2 missing values\n",
    "    * one in the Age column\n",
    "    * one in the Salary column"
   ]
  },
  {
   "cell_type": "markdown",
   "id": "522ade90",
   "metadata": {},
   "source": [
    "## More Raw DataFrame observation"
   ]
  },
  {
   "cell_type": "code",
   "execution_count": 63,
   "id": "def4cf12",
   "metadata": {},
   "outputs": [
    {
     "data": {
      "text/plain": [
       "array([['France', 44.0, 72000.0],\n",
       "       ['Spain', 27.0, 48000.0],\n",
       "       ['Germany', 30.0, 54000.0],\n",
       "       ['Spain', 38.0, 61000.0],\n",
       "       ['Germany', 40.0, nan],\n",
       "       ['France', 35.0, 58000.0],\n",
       "       ['Spain', nan, 52000.0],\n",
       "       ['France', 48.0, 79000.0],\n",
       "       ['Germany', 50.0, 83000.0],\n",
       "       ['France', 37.0, 67000.0]], dtype=object)"
      ]
     },
     "execution_count": 63,
     "metadata": {},
     "output_type": "execute_result"
    }
   ],
   "source": [
    "# take all the rows, take all the columns except the last column one\n",
    "X = df.iloc[:,:-1].values # will contains the values of the columns 'Country', 'Age', 'Salary'\n",
    "X"
   ]
  },
  {
   "cell_type": "code",
   "execution_count": 64,
   "id": "a1e9e66d",
   "metadata": {},
   "outputs": [
    {
     "data": {
      "text/plain": [
       "array(['No', 'Yes', 'No', 'No', 'Yes', 'Yes', 'No', 'Yes', 'No', 'Yes'],\n",
       "      dtype=object)"
      ]
     },
     "execution_count": 64,
     "metadata": {},
     "output_type": "execute_result"
    }
   ],
   "source": [
    "# take all the rows, take only the last column\n",
    "y = df.iloc[:, -1].values # will contains the values of the column 'Purchased'\n",
    "y"
   ]
  },
  {
   "cell_type": "markdown",
   "id": "3503a252",
   "metadata": {},
   "source": [
    "## Up close observation"
   ]
  },
  {
   "cell_type": "code",
   "execution_count": 65,
   "id": "d7f5fe77",
   "metadata": {},
   "outputs": [
    {
     "name": "stdout",
     "output_type": "stream",
     "text": [
      "--------------------------------------------------\n",
      "first row (Salary value is Missing):\n",
      "['Germany' 40.0 nan]\n",
      "--------------------------------------------------\n",
      "second row (Age value is Missing):\n",
      "['Spain' nan 52000.0]\n"
     ]
    }
   ],
   "source": [
    "# rows with missing values\n",
    "\n",
    "print(f\"-\" * 50)\n",
    "print(f\"first row (Salary value is Missing):\")\n",
    "print(X[4,:])\n",
    "\n",
    "print(f\"-\" * 50)\n",
    "print(f\"second row (Age value is Missing):\")\n",
    "print(X[6,:])"
   ]
  },
  {
   "cell_type": "markdown",
   "id": "9a5fdab1",
   "metadata": {},
   "source": [
    "## Fixing the missing inputs"
   ]
  },
  {
   "cell_type": "code",
   "execution_count": 66,
   "id": "38df99d1",
   "metadata": {},
   "outputs": [
    {
     "data": {
      "text/plain": [
       "array([['France', 44.0, 72000.0],\n",
       "       ['Spain', 27.0, 48000.0],\n",
       "       ['Germany', 30.0, 54000.0],\n",
       "       ['Spain', 38.0, 61000.0],\n",
       "       ['Germany', 40.0, 63777.77777777778],\n",
       "       ['France', 35.0, 58000.0],\n",
       "       ['Spain', 38.77777777777778, 52000.0],\n",
       "       ['France', 48.0, 79000.0],\n",
       "       ['Germany', 50.0, 83000.0],\n",
       "       ['France', 37.0, 67000.0]], dtype=object)"
      ]
     },
     "execution_count": 66,
     "metadata": {},
     "output_type": "execute_result"
    }
   ],
   "source": [
    "# replace all the NaN with the average (mean) value of the column\n",
    "imputer = SimpleImputer(missing_values=np.nan, strategy='mean')\n",
    "\n",
    "# all the rows, but only take the columns 'Age' + 'Salary'\n",
    "imputer.fit(X[:, 1:3])\n",
    "\n",
    "# all the rows, but only take the columns 'Age' + 'Salary'\n",
    "X[:, 1:3] = imputer.transform(X[:, 1:3])\n",
    "\n",
    "# only the columns 'Age' + 'Salary' got modified\n",
    "X"
   ]
  },
  {
   "cell_type": "code",
   "execution_count": 67,
   "id": "41a9d50e",
   "metadata": {},
   "outputs": [
    {
     "name": "stdout",
     "output_type": "stream",
     "text": [
      "--------------------------------------------------\n",
      "first row (Salary value was Missing):\n",
      "['Germany' 40.0 63777.77777777778]\n",
      "--------------------------------------------------\n",
      "second row (Age value was Missing):\n",
      "['Spain' 38.77777777777778 52000.0]\n"
     ]
    }
   ],
   "source": [
    "# rows with missing values\n",
    "\n",
    "print(f\"-\" * 50)\n",
    "print(f\"first row (Salary value was Missing):\")\n",
    "print(X[4,:])\n",
    "\n",
    "print(f\"-\" * 50)\n",
    "print(f\"second row (Age value was Missing):\")\n",
    "print(X[6,:])"
   ]
  }
 ],
 "metadata": {
  "kernelspec": {
   "display_name": "planA-lessons",
   "language": "python",
   "name": "python3"
  },
  "language_info": {
   "codemirror_mode": {
    "name": "ipython",
    "version": 3
   },
   "file_extension": ".py",
   "mimetype": "text/x-python",
   "name": "python",
   "nbconvert_exporter": "python",
   "pygments_lexer": "ipython3",
   "version": "3.12.11"
  }
 },
 "nbformat": 4,
 "nbformat_minor": 5
}
