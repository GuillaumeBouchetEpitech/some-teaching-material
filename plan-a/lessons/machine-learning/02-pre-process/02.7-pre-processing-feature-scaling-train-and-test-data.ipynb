{
 "cells": [
  {
   "cell_type": "markdown",
   "id": "ca151017",
   "metadata": {},
   "source": [
    "# 02.7 Pre Processing - Feature Scaling Train And Test Data"
   ]
  },
  {
   "cell_type": "code",
   "execution_count": 21,
   "id": "48e6db56",
   "metadata": {},
   "outputs": [],
   "source": [
    "import pandas\n",
    "import numpy as np\n",
    "from sklearn.impute import SimpleImputer\n",
    "from sklearn.preprocessing import StandardScaler"
   ]
  },
  {
   "cell_type": "markdown",
   "id": "c940ee88",
   "metadata": {},
   "source": []
  },
  {
   "cell_type": "code",
   "execution_count": 22,
   "id": "6db09f87",
   "metadata": {},
   "outputs": [
    {
     "data": {
      "text/html": [
       "<div>\n",
       "<style scoped>\n",
       "    .dataframe tbody tr th:only-of-type {\n",
       "        vertical-align: middle;\n",
       "    }\n",
       "\n",
       "    .dataframe tbody tr th {\n",
       "        vertical-align: top;\n",
       "    }\n",
       "\n",
       "    .dataframe thead th {\n",
       "        text-align: right;\n",
       "    }\n",
       "</style>\n",
       "<table border=\"1\" class=\"dataframe\">\n",
       "  <thead>\n",
       "    <tr style=\"text-align: right;\">\n",
       "      <th></th>\n",
       "      <th>Country</th>\n",
       "      <th>Age</th>\n",
       "      <th>Salary</th>\n",
       "      <th>Purchased</th>\n",
       "    </tr>\n",
       "  </thead>\n",
       "  <tbody>\n",
       "    <tr>\n",
       "      <th>0</th>\n",
       "      <td>France</td>\n",
       "      <td>44.0</td>\n",
       "      <td>72000.0</td>\n",
       "      <td>No</td>\n",
       "    </tr>\n",
       "    <tr>\n",
       "      <th>1</th>\n",
       "      <td>Spain</td>\n",
       "      <td>27.0</td>\n",
       "      <td>48000.0</td>\n",
       "      <td>Yes</td>\n",
       "    </tr>\n",
       "    <tr>\n",
       "      <th>2</th>\n",
       "      <td>Germany</td>\n",
       "      <td>30.0</td>\n",
       "      <td>54000.0</td>\n",
       "      <td>No</td>\n",
       "    </tr>\n",
       "    <tr>\n",
       "      <th>3</th>\n",
       "      <td>Spain</td>\n",
       "      <td>38.0</td>\n",
       "      <td>61000.0</td>\n",
       "      <td>No</td>\n",
       "    </tr>\n",
       "    <tr>\n",
       "      <th>4</th>\n",
       "      <td>Germany</td>\n",
       "      <td>40.0</td>\n",
       "      <td>NaN</td>\n",
       "      <td>Yes</td>\n",
       "    </tr>\n",
       "    <tr>\n",
       "      <th>5</th>\n",
       "      <td>France</td>\n",
       "      <td>35.0</td>\n",
       "      <td>58000.0</td>\n",
       "      <td>Yes</td>\n",
       "    </tr>\n",
       "    <tr>\n",
       "      <th>6</th>\n",
       "      <td>Spain</td>\n",
       "      <td>NaN</td>\n",
       "      <td>52000.0</td>\n",
       "      <td>No</td>\n",
       "    </tr>\n",
       "    <tr>\n",
       "      <th>7</th>\n",
       "      <td>France</td>\n",
       "      <td>48.0</td>\n",
       "      <td>79000.0</td>\n",
       "      <td>Yes</td>\n",
       "    </tr>\n",
       "    <tr>\n",
       "      <th>8</th>\n",
       "      <td>Germany</td>\n",
       "      <td>50.0</td>\n",
       "      <td>83000.0</td>\n",
       "      <td>No</td>\n",
       "    </tr>\n",
       "    <tr>\n",
       "      <th>9</th>\n",
       "      <td>France</td>\n",
       "      <td>37.0</td>\n",
       "      <td>67000.0</td>\n",
       "      <td>Yes</td>\n",
       "    </tr>\n",
       "  </tbody>\n",
       "</table>\n",
       "</div>"
      ],
      "text/plain": [
       "   Country   Age   Salary Purchased\n",
       "0   France  44.0  72000.0        No\n",
       "1    Spain  27.0  48000.0       Yes\n",
       "2  Germany  30.0  54000.0        No\n",
       "3    Spain  38.0  61000.0        No\n",
       "4  Germany  40.0      NaN       Yes\n",
       "5   France  35.0  58000.0       Yes\n",
       "6    Spain   NaN  52000.0        No\n",
       "7   France  48.0  79000.0       Yes\n",
       "8  Germany  50.0  83000.0        No\n",
       "9   France  37.0  67000.0       Yes"
      ]
     },
     "execution_count": 22,
     "metadata": {},
     "output_type": "execute_result"
    }
   ],
   "source": [
    "df = pandas.read_csv(\"02-pre-process-data.csv\")\n",
    "df"
   ]
  },
  {
   "cell_type": "code",
   "execution_count": 23,
   "id": "53b8bc77",
   "metadata": {},
   "outputs": [],
   "source": [
    "# take all the rows, take all the columns except the last column one\n",
    "X = df.iloc[:,:-1].values # will contains the values of the columns 'Country', 'Age', 'Salary'\n",
    "\n",
    "# take all the rows, take only the last column\n",
    "y = df.iloc[:, -1].values # will contains the values of the column 'Purchased'"
   ]
  },
  {
   "cell_type": "markdown",
   "id": "7e5aa767",
   "metadata": {},
   "source": [
    "## Fix the Input Data"
   ]
  },
  {
   "cell_type": "code",
   "execution_count": 24,
   "id": "619bd467",
   "metadata": {},
   "outputs": [],
   "source": [
    "# replace all the NaN with the average (mean) value of the column\n",
    "imputer = SimpleImputer(missing_values=np.nan, strategy='mean')\n",
    "imputer.fit(X[:, 1:3]) # all the rows, but only take the columns 'Age' + 'Salary'\n",
    "X[:, 1:3] = imputer.transform(X[:, 1:3]) # all the rows, but only take the columns 'Age' + 'Salary'\n",
    "# only the columns 'Age' + 'Salary' got modified\n"
   ]
  },
  {
   "cell_type": "markdown",
   "id": "14a99604",
   "metadata": {},
   "source": [
    "## Split the Data (Train/Test)"
   ]
  },
  {
   "cell_type": "code",
   "execution_count": 25,
   "id": "c095038e",
   "metadata": {},
   "outputs": [],
   "source": [
    "from sklearn.model_selection import train_test_split\n",
    "# test_size=0.2 -> we take 20% of the dataset for testing (10 rows -> 20% of 10 -> 2 rows for testing)\n",
    "# random_state=1 -> this is just used here for teaching -> it will ensure the same rows are always used -> do not use in production\n",
    "(X_train, X_test, y_train, y_test) = train_test_split(X, y, test_size=0.2, random_state=1)"
   ]
  },
  {
   "cell_type": "code",
   "execution_count": 26,
   "id": "944fe331",
   "metadata": {},
   "outputs": [
    {
     "name": "stdout",
     "output_type": "stream",
     "text": [
      "--------------------------------------------------\n",
      "X_train\n",
      "[['Spain' 38.77777777777778 52000.0]\n",
      " ['Germany' 40.0 63777.77777777778]\n",
      " ['France' 44.0 72000.0]\n",
      " ['Spain' 38.0 61000.0]\n",
      " ['Spain' 27.0 48000.0]\n",
      " ['France' 48.0 79000.0]\n",
      " ['Germany' 50.0 83000.0]\n",
      " ['France' 35.0 58000.0]]\n",
      "--------------------------------------------------\n",
      "y_train\n",
      "['No' 'Yes' 'No' 'No' 'Yes' 'Yes' 'No' 'Yes']\n",
      "--------------------------------------------------\n",
      "X_test\n",
      "[['Germany' 30.0 54000.0]\n",
      " ['France' 37.0 67000.0]]\n",
      "--------------------------------------------------\n",
      "y_test\n",
      "['No' 'Yes']\n"
     ]
    }
   ],
   "source": [
    "print(\"-\" * 50)\n",
    "print(\"X_train\")\n",
    "print(X_train)\n",
    "\n",
    "print(\"-\" * 50)\n",
    "print(\"y_train\")\n",
    "print(y_train)\n",
    "\n",
    "print(\"-\" * 50)\n",
    "print(\"X_test\")\n",
    "print(X_test)\n",
    "\n",
    "print(\"-\" * 50)\n",
    "print(\"y_test\")\n",
    "print(y_test)"
   ]
  },
  {
   "cell_type": "markdown",
   "id": "101a3fa1",
   "metadata": {},
   "source": [
    "## Now we get to see how to scale a (split) Dataset"
   ]
  },
  {
   "cell_type": "code",
   "execution_count": 27,
   "id": "d20cd865",
   "metadata": {},
   "outputs": [],
   "source": [
    "sc = StandardScaler()\n",
    "\n",
    "# here we do NOT need to scale the encoded Country columns -> so we skip the first column\n",
    "X_train[:, 1:] = sc.fit_transform(X_train[:, 1:])\n",
    "\n",
    "# we do NOT fit and transform -> only transform, reusing the fit of the train data\n",
    "X_test[:, 1:] = sc.transform(X_test[:, 1:])"
   ]
  },
  {
   "cell_type": "code",
   "execution_count": 28,
   "id": "0c0e8752",
   "metadata": {},
   "outputs": [
    {
     "name": "stdout",
     "output_type": "stream",
     "text": [
      "--------------------------------------------------\n",
      "X_train\n",
      "[['Spain' -0.19159184384578545 -1.0781259408412425]\n",
      " ['Germany' -0.014117293757057777 -0.07013167641635372]\n",
      " ['France' 0.566708506533324 0.633562432710455]\n",
      " ['Spain' -0.30453019390224867 -0.30786617274297867]\n",
      " ['Spain' -1.9018011447007988 -1.420463615551582]\n",
      " ['France' 1.1475343068237058 1.232653363453549]\n",
      " ['Germany' 1.4379472069688968 1.5749910381638885]\n",
      " ['France' -0.7401495441200351 -0.5646194287757332]]\n",
      "--------------------------------------------------\n",
      "y_train\n",
      "['No' 'Yes' 'No' 'No' 'Yes' 'Yes' 'No' 'Yes']\n",
      "--------------------------------------------------\n",
      "X_test\n",
      "[['Germany' -1.4661817944830124 -0.9069571034860727]\n",
      " ['France' -0.44973664397484414 0.2056403393225306]]\n",
      "--------------------------------------------------\n",
      "y_test\n",
      "['No' 'Yes']\n"
     ]
    }
   ],
   "source": [
    "print(\"-\" * 50)\n",
    "print(\"X_train\")\n",
    "print(X_train)\n",
    "\n",
    "print(\"-\" * 50)\n",
    "print(\"y_train\")\n",
    "print(y_train)\n",
    "\n",
    "print(\"-\" * 50)\n",
    "print(\"X_test\")\n",
    "print(X_test)\n",
    "\n",
    "print(\"-\" * 50)\n",
    "print(\"y_test\")\n",
    "print(y_test)"
   ]
  }
 ],
 "metadata": {
  "kernelspec": {
   "display_name": "planA-lessons",
   "language": "python",
   "name": "python3"
  },
  "language_info": {
   "codemirror_mode": {
    "name": "ipython",
    "version": 3
   },
   "file_extension": ".py",
   "mimetype": "text/x-python",
   "name": "python",
   "nbconvert_exporter": "python",
   "pygments_lexer": "ipython3",
   "version": "3.12.11"
  }
 },
 "nbformat": 4,
 "nbformat_minor": 5
}
