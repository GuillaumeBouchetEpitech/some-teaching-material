{
 "cells": [
  {
   "cell_type": "markdown",
   "id": "b39b558f",
   "metadata": {},
   "source": [
    "# Stratified train/test sets\n"
   ]
  },
  {
   "cell_type": "markdown",
   "id": "8347f5ad",
   "metadata": {},
   "source": [
    "## Initialization"
   ]
  },
  {
   "cell_type": "code",
   "execution_count": 66,
   "id": "f4caa701",
   "metadata": {},
   "outputs": [],
   "source": [
    "import numpy as np\n",
    "import pandas as pd\n",
    "\n",
    "import matplotlib.pyplot as plt\n",
    "import seaborn as sns\n"
   ]
  },
  {
   "cell_type": "code",
   "execution_count": 67,
   "id": "ff68e25d",
   "metadata": {},
   "outputs": [
    {
     "data": {
      "text/html": [
       "<div>\n",
       "<style scoped>\n",
       "    .dataframe tbody tr th:only-of-type {\n",
       "        vertical-align: middle;\n",
       "    }\n",
       "\n",
       "    .dataframe tbody tr th {\n",
       "        vertical-align: top;\n",
       "    }\n",
       "\n",
       "    .dataframe thead th {\n",
       "        text-align: right;\n",
       "    }\n",
       "</style>\n",
       "<table border=\"1\" class=\"dataframe\">\n",
       "  <thead>\n",
       "    <tr style=\"text-align: right;\">\n",
       "      <th></th>\n",
       "      <th>Age</th>\n",
       "      <th>EstimatedSalary</th>\n",
       "      <th>Purchased</th>\n",
       "    </tr>\n",
       "  </thead>\n",
       "  <tbody>\n",
       "    <tr>\n",
       "      <th>0</th>\n",
       "      <td>19</td>\n",
       "      <td>19000</td>\n",
       "      <td>0</td>\n",
       "    </tr>\n",
       "    <tr>\n",
       "      <th>1</th>\n",
       "      <td>35</td>\n",
       "      <td>20000</td>\n",
       "      <td>0</td>\n",
       "    </tr>\n",
       "    <tr>\n",
       "      <th>2</th>\n",
       "      <td>26</td>\n",
       "      <td>43000</td>\n",
       "      <td>0</td>\n",
       "    </tr>\n",
       "    <tr>\n",
       "      <th>3</th>\n",
       "      <td>27</td>\n",
       "      <td>57000</td>\n",
       "      <td>0</td>\n",
       "    </tr>\n",
       "    <tr>\n",
       "      <th>4</th>\n",
       "      <td>19</td>\n",
       "      <td>76000</td>\n",
       "      <td>0</td>\n",
       "    </tr>\n",
       "    <tr>\n",
       "      <th>...</th>\n",
       "      <td>...</td>\n",
       "      <td>...</td>\n",
       "      <td>...</td>\n",
       "    </tr>\n",
       "    <tr>\n",
       "      <th>395</th>\n",
       "      <td>46</td>\n",
       "      <td>41000</td>\n",
       "      <td>1</td>\n",
       "    </tr>\n",
       "    <tr>\n",
       "      <th>396</th>\n",
       "      <td>51</td>\n",
       "      <td>23000</td>\n",
       "      <td>1</td>\n",
       "    </tr>\n",
       "    <tr>\n",
       "      <th>397</th>\n",
       "      <td>50</td>\n",
       "      <td>20000</td>\n",
       "      <td>1</td>\n",
       "    </tr>\n",
       "    <tr>\n",
       "      <th>398</th>\n",
       "      <td>36</td>\n",
       "      <td>33000</td>\n",
       "      <td>0</td>\n",
       "    </tr>\n",
       "    <tr>\n",
       "      <th>399</th>\n",
       "      <td>49</td>\n",
       "      <td>36000</td>\n",
       "      <td>1</td>\n",
       "    </tr>\n",
       "  </tbody>\n",
       "</table>\n",
       "<p>400 rows × 3 columns</p>\n",
       "</div>"
      ],
      "text/plain": [
       "     Age  EstimatedSalary  Purchased\n",
       "0     19            19000          0\n",
       "1     35            20000          0\n",
       "2     26            43000          0\n",
       "3     27            57000          0\n",
       "4     19            76000          0\n",
       "..   ...              ...        ...\n",
       "395   46            41000          1\n",
       "396   51            23000          1\n",
       "397   50            20000          1\n",
       "398   36            33000          0\n",
       "399   49            36000          1\n",
       "\n",
       "[400 rows x 3 columns]"
      ]
     },
     "execution_count": 67,
     "metadata": {},
     "output_type": "execute_result"
    }
   ],
   "source": [
    "\n",
    "# df -> means \"data frame\"\n",
    "df = pd.read_csv(\"./test-data.csv\")\n",
    "df"
   ]
  },
  {
   "cell_type": "code",
   "execution_count": 68,
   "id": "5d3388a1",
   "metadata": {},
   "outputs": [],
   "source": [
    "\n",
    "# take all the rows, take all the columns except the last column one\n",
    "\n",
    "X = df.iloc[:, :-1].values # will contains the values of the columns 'R&D Spend', 'Administration', 'Marketing Spend', 'State'\n",
    "\n",
    "# take all the rows, take only the last column\n",
    "\n",
    "y = df.iloc[:, -1].values # will contains the values of the columns 'Profit'\n",
    "\n",
    "# print(f\"X {X}\")\n",
    "# print(f\"y {y}\")\n"
   ]
  },
  {
   "cell_type": "markdown",
   "id": "8ee624b2",
   "metadata": {},
   "source": [
    "## Visualization (unstratified)"
   ]
  },
  {
   "cell_type": "code",
   "execution_count": 69,
   "id": "81a04aec",
   "metadata": {},
   "outputs": [
    {
     "data": {
      "text/plain": [
       "<Figure size 500x500 with 0 Axes>"
      ]
     },
     "metadata": {},
     "output_type": "display_data"
    },
    {
     "data": {
      "image/png": "[encoded data removed]",
      "text/plain": [
       "<Figure size 640x480 with 2 Axes>"
      ]
     },
     "metadata": {},
     "output_type": "display_data"
    }
   ],
   "source": [
    "# Splitting the dataset into the Training set and Test set\n",
    "from sklearn.model_selection import train_test_split\n",
    "X_train, X_test, y_train, y_test = train_test_split(X, y, test_size = 0.20, random_state = 0)\n",
    "\n",
    "df_y_train = pd.DataFrame(y_train, columns=['y_train'])\n",
    "df_y_test = pd.DataFrame(y_test, columns=['y_test'])\n",
    "\n",
    "percent_yes_train = (df_y_train == True).sum() / df_y_train.shape[0]\n",
    "percent_yes_test  = (df_y_test == True).sum() / df_y_test.shape[0]\n",
    "\n",
    "plt.figure(figsize=(5, 5))\n",
    "plt.subplots(1,2)\n",
    "\n",
    "plt.subplot(1,2, 1)\n",
    "sns.countplot(x='y_train', data=df_y_train, hue='y_train', palette='Set1', stat='count')\n",
    "plt.title('unstratified (train)')\n",
    "plt.xlabel(f'total yes {float(percent_yes_train.iloc[0])*100:.2f}%')\n",
    "plt.ylabel('Count')\n",
    "\n",
    "plt.subplot(1,2, 2)\n",
    "sns.countplot(x='y_test', data=df_y_test, hue='y_test', palette='Set2', stat='count')\n",
    "plt.title('unstratified (test)')\n",
    "plt.xlabel(f'total yes {float(percent_yes_test.iloc[0])*100:.2f}%')\n",
    "plt.ylabel('Count')\n",
    "\n",
    "plt.show()"
   ]
  },
  {
   "cell_type": "markdown",
   "id": "b15d5cd1",
   "metadata": {},
   "source": [
    "## Visualization (stratified)"
   ]
  },
  {
   "cell_type": "code",
   "execution_count": 70,
   "id": "874836e2",
   "metadata": {},
   "outputs": [
    {
     "data": {
      "text/plain": [
       "<Figure size 500x500 with 0 Axes>"
      ]
     },
     "metadata": {},
     "output_type": "display_data"
    },
    {
     "data": {
      "image/png": "[encoded data removed]",
      "text/plain": [
       "<Figure size 640x480 with 2 Axes>"
      ]
     },
     "metadata": {},
     "output_type": "display_data"
    }
   ],
   "source": [
    "# Splitting the dataset into the Training set and Test set\n",
    "from sklearn.model_selection import train_test_split\n",
    "X_train, X_test, y_train, y_test = train_test_split(X, y, test_size = 0.20, random_state = 0, stratify=y)\n",
    "\n",
    "df_y_train = pd.DataFrame(y_train, columns=['y_train'])\n",
    "df_y_test = pd.DataFrame(y_test, columns=['y_test'])\n",
    "\n",
    "percent_yes_train = (df_y_train == True).sum() / df_y_train.shape[0]\n",
    "percent_yes_test  = (df_y_test == True).sum() / df_y_test.shape[0]\n",
    "\n",
    "plt.figure(figsize=(5, 5))\n",
    "plt.subplots(1,2)\n",
    "\n",
    "plt.subplot(1,2, 1)\n",
    "sns.countplot(x='y_train', data=df_y_train, hue='y_train', palette='Set1', stat='count')\n",
    "plt.title('stratified (train)')\n",
    "plt.xlabel(f'total yes {float(percent_yes_train.iloc[0])*100:.2f}%')\n",
    "plt.ylabel('Count')\n",
    "\n",
    "plt.subplot(1,2, 2)\n",
    "sns.countplot(x='y_test', data=df_y_test, hue='y_test', palette='Set2', stat='count')\n",
    "plt.title('stratified (test)')\n",
    "plt.xlabel(f'total yes {float(percent_yes_test.iloc[0])*100:.2f}%')\n",
    "plt.ylabel('Count')\n",
    "\n",
    "plt.show()"
   ]
  }
 ],
 "metadata": {
  "kernelspec": {
   "display_name": "Python 3",
   "language": "python",
   "name": "python3"
  },
  "language_info": {
   "codemirror_mode": {
    "name": "ipython",
    "version": 3
   },
   "file_extension": ".py",
   "mimetype": "text/x-python",
   "name": "python",
   "nbconvert_exporter": "python",
   "pygments_lexer": "ipython3",
   "version": "3.12.10"
  }
 },
 "nbformat": 4,
 "nbformat_minor": 5
}
